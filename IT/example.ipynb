{
 "cells": [
  {
   "cell_type": "code",
   "execution_count": 2,
   "id": "bd2aed47",
   "metadata": {},
   "outputs": [],
   "source": [
    "from all_function import *"
   ]
  },
  {
   "cell_type": "code",
   "execution_count": 4,
   "id": "ff65bcc9",
   "metadata": {},
   "outputs": [],
   "source": [
    "def getTable(df):\n",
    "    d = go.Table(\n",
    "#     columnwidth=[2,3,4,6], \n",
    "            header=dict(\n",
    "                values=list(df.keys()),\n",
    "                font=dict(size=15),\n",
    "                align=\"left\"\n",
    "            ),\n",
    "            cells=dict(\n",
    "                values=[df[k].tolist() for k in df.keys()],\n",
    "#             font=dict(size=10),\n",
    "#             align = \"left\"\n",
    "            )\n",
    "        )\n",
    "    fig = go.Figure(data=d)\n",
    "    fig.update_layout(height = 400)\n",
    "    divfig = plotly.offline.plot(fig, include_plotlyjs=False, output_type='div')\n",
    "    return {'Table':divfig}"
   ]
  },
  {
   "cell_type": "code",
   "execution_count": 6,
   "id": "0ad72059",
   "metadata": {},
   "outputs": [],
   "source": [
    "def getGraph(df):\n",
    "    fig = px.bar(df, x=\"sepal_width\", y=\"sepal_length\")\n",
    "    divfig = plotly.offline.plot(fig, include_plotlyjs=False, output_type='div')\n",
    "    return {'Graph':divfig}"
   ]
  },
  {
   "cell_type": "code",
   "execution_count": 12,
   "id": "a817d6b7",
   "metadata": {},
   "outputs": [],
   "source": [
    "df1 = px.data.iris()\n",
    "\n",
    "con1 = getTable(df1)\n",
    "con2 = getGraph(df1)\n",
    "con3 = getGraph(df1)\n",
    "con4 = getTable(df1)\n",
    "con5 = getTable(df1)\n",
    "con6 = getGraph(df1)\n",
    "con7 = getGraph(df1)\n",
    "con8 = getTable(df1)"
   ]
  },
  {
   "cell_type": "code",
   "execution_count": 15,
   "id": "a6ee84ed",
   "metadata": {},
   "outputs": [],
   "source": [
    "createReport(con1, con2, con3, con4, con5, con6, con7)"
   ]
  },
  {
   "cell_type": "code",
   "execution_count": null,
   "id": "8fd6dd4e",
   "metadata": {},
   "outputs": [],
   "source": []
  }
 ],
 "metadata": {
  "kernelspec": {
   "display_name": "termproject",
   "language": "python",
   "name": "termproject"
  },
  "language_info": {
   "codemirror_mode": {
    "name": "ipython",
    "version": 3
   },
   "file_extension": ".py",
   "mimetype": "text/x-python",
   "name": "python",
   "nbconvert_exporter": "python",
   "pygments_lexer": "ipython3",
   "version": "3.9.15"
  }
 },
 "nbformat": 4,
 "nbformat_minor": 5
}
